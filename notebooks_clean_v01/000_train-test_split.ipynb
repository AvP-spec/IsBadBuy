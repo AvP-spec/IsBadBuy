{
 "cells": [
  {
   "cell_type": "markdown",
   "metadata": {},
   "source": [
    "# Train - Test split of origenal 'train data'"
   ]
  },
  {
   "cell_type": "code",
   "execution_count": null,
   "metadata": {},
   "outputs": [],
   "source": [
    "import sys\n",
    "import os\n",
    "\n",
    "## geting one level above current path \n",
    "path_absolute = os.path.dirname(os.getcwd()) \n",
    "\n",
    "if path_absolute in sys.path:\n",
    "    print(f\"alrady in sys.path: {path_absolute}\")\n",
    "else:\n",
    "    sys.path.append(os.path.dirname(os.getcwd()))\n",
    "    print(f\"added to sys.path: {path_absolute}\"  )\n",
    "    \n",
    "# for p in sys.path:\n",
    "#     print(p)\n",
    "    \n",
    "\n",
    "from avp_pckg.DataFrame import AvPdataFrame"
   ]
  },
  {
   "cell_type": "code",
   "execution_count": null,
   "metadata": {},
   "outputs": [],
   "source": [
    "import pandas as pd\n",
    "from sklearn.model_selection import train_test_split\n",
    "\n",
    "df = pd.read_csv( path_absolute + '\\\\data\\\\DontGetKicked\\\\training.csv', parse_dates=['PurchDate'], index_col=0)\n",
    "display(df.head())\n",
    "df.info()\n",
    "\n",
    "features = df.drop(columns=['IsBadBuy'])\n",
    "target = df['IsBadBuy']\n",
    "\n",
    "features_train, features_test, target_train, target_test = train_test_split(features, \n",
    "                                                                            target, \n",
    "                                                                            test_size=0.15, \n",
    "                                                                            random_state=42)\n",
    "\n",
    "features_train.to_csv(path_absolute + '\\\\data\\\\features_train.csv')\n",
    "target_train.to_csv(path_absolute + '\\\\data\\\\target_train.csv')\n",
    "\n",
    "features_test.to_csv(path_absolute + '\\\\data\\\\features_test.csv')\n",
    "target_test.to_csv(path_absolute + '\\\\data\\\\target_test.csv')"
   ]
  }
 ],
 "metadata": {
  "language_info": {
   "name": "python"
  }
 },
 "nbformat": 4,
 "nbformat_minor": 2
}
