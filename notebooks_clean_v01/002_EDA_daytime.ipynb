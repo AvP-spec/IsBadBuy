{
 "cells": [
  {
   "cell_type": "markdown",
   "metadata": {},
   "source": [
    "# Exploration of daytime columns\n",
    "- 'PurchDate', \n",
    "- 'VehYear', \n",
    "- 'VehicleAge'"
   ]
  },
  {
   "cell_type": "code",
   "execution_count": null,
   "metadata": {},
   "outputs": [],
   "source": [
    "## add current directory to system path for relative import of the castom pakage: avp_pckg\n",
    "import sys\n",
    "import os\n",
    "\n",
    "## geting one level above current path \n",
    "path_absolute = os.path.dirname(os.getcwd()) \n",
    "\n",
    "if path_absolute in sys.path:\n",
    "    print(f\"alrady in sys.path: {path_absolute}\")\n",
    "else:\n",
    "    sys.path.append(os.path.dirname(os.getcwd()))\n",
    "    print(f\"added to sys.path: {path_absolute}\"  )\n",
    "\n",
    "## for debagging     \n",
    "# for p in sys.path:\n",
    "#     print(p)\n",
    "    \n",
    "## check import from avp_pckg\n",
    "from avp_pckg.DataFrame import AvPdataFrame "
   ]
  },
  {
   "cell_type": "code",
   "execution_count": 3,
   "metadata": {},
   "outputs": [],
   "source": [
    "import pandas as pd\n",
    "import numpy as np\n",
    "import matplotlib.pyplot as plt\n",
    "import seaborn as sns\n"
   ]
  },
  {
   "cell_type": "markdown",
   "metadata": {},
   "source": [
    "### Load original data\n"
   ]
  },
  {
   "cell_type": "code",
   "execution_count": null,
   "metadata": {},
   "outputs": [],
   "source": [
    "df = pd.read_csv(path_absolute + '\\\\data\\\\DontGetKicked\\\\training.csv', \n",
    "                 parse_dates=['PurchDate'], \n",
    "                 index_col=0)\n",
    "display(df.head(3))\n",
    "#df.info()"
   ]
  },
  {
   "cell_type": "markdown",
   "metadata": {},
   "source": [
    "# EDA"
   ]
  },
  {
   "cell_type": "code",
   "execution_count": null,
   "metadata": {},
   "outputs": [],
   "source": [
    "col_year= ['IsBadBuy', 'PurchDate', 'VehYear', 'VehicleAge']\n",
    "df_year = df[col_year].copy()\n",
    "df_year.loc[:, 'PurchYear'] = df_year['PurchDate'].dt.year\n",
    "df_year.loc[:, 'PurchMonth'] = df_year['PurchDate'].dt.month\n",
    "df_year.loc[:, 'PurchDay'] = df_year['PurchDate'].dt.day\n",
    "## for undestandig correlation between  'VehYear' and 'VehicleAge' columns\n",
    "df_year.loc[:, 'Age2'] = df_year['PurchYear'] - df_year['VehYear']\n",
    "df_year.head()\n"
   ]
  },
  {
   "cell_type": "code",
   "execution_count": null,
   "metadata": {},
   "outputs": [],
   "source": [
    "mask = df_year['VehicleAge' ] != df_year['Age2']\n",
    "df_wrong_year = df_year[mask]\n",
    "print('number of entries in df_wrong_year: ', df_wrong_year.shape[0]) \n",
    "df_wrong_year.head(7)"
   ]
  },
  {
   "cell_type": "code",
   "execution_count": null,
   "metadata": {},
   "outputs": [],
   "source": [
    "df_year['PurchYear'].unique()"
   ]
  },
  {
   "cell_type": "markdown",
   "metadata": {},
   "source": [
    "### conclusion\n",
    "- strong correlation between 'VehYear' and 'VehicleAge' is related to fact that all cars were bought within 2-years period. \n",
    "- PurchYear - 'VehYear' = 'VehicleAge' (just 7 exeptions, month of the year was not considered)\n",
    "- 'VehYear' can be an additional indication for car model? month is not specified. \n",
    "- 'VehicleAge' looks to be rounded on the base of PurchMonth. "
   ]
  },
  {
   "cell_type": "markdown",
   "metadata": {},
   "source": [
    "## Total IsBadBuy frequency"
   ]
  },
  {
   "cell_type": "code",
   "execution_count": null,
   "metadata": {},
   "outputs": [],
   "source": [
    "bad_buys = df_year['IsBadBuy'].sum()\n",
    "total_buys = df_year.shape[0]\n",
    "bad_buys/total_buys *100"
   ]
  },
  {
   "cell_type": "markdown",
   "metadata": {},
   "source": [
    "## VehicleAge vs IsBadBuy frequency"
   ]
  },
  {
   "cell_type": "code",
   "execution_count": null,
   "metadata": {},
   "outputs": [],
   "source": [
    "# %load_ext autoreload\n",
    "# %autoreload 2\n",
    "\n",
    "%reload_ext autoreload\n",
    "\n",
    "from avp_pckg.DataFrame import AvPdataFrame \n",
    "avp_df = AvPdataFrame(df_year)\n",
    "# 'VehicleAge'\n",
    "df_tmp = avp_df.calc_frequency(col='VehYear', target='IsBadBuy').sort_index()\n",
    "display(df_tmp)\n",
    "df_tmp.plot(y='IsBadBuy_%', use_index=True)"
   ]
  },
  {
   "cell_type": "code",
   "execution_count": null,
   "metadata": {},
   "outputs": [],
   "source": [
    "# 'VehicleAge'\n",
    "df_tmp = avp_df.calc_frequency(col='VehicleAge', target='IsBadBuy').sort_index()\n",
    "display(df_tmp)\n",
    "df_tmp.plot(y='IsBadBuy_%', use_index=True)"
   ]
  },
  {
   "cell_type": "markdown",
   "metadata": {},
   "source": [
    "conclusions: \n",
    "- linear correlation of IsBadBuy frequency with 'VehicleAge'\n",
    "- dependence of IsBadBuy frequency on 'VehYear' looks bit more smooth => drop 'VehicleAge'"
   ]
  },
  {
   "cell_type": "markdown",
   "metadata": {},
   "source": [
    "## PurchDate vs IsBadBuy frequency"
   ]
  },
  {
   "cell_type": "code",
   "execution_count": null,
   "metadata": {},
   "outputs": [],
   "source": [
    "## 'IsBadBuy_%' , 'count'\n",
    "avp_df.calc_frequency(col='PurchMonth', target='IsBadBuy').sort_values('IsBadBuy_%')"
   ]
  },
  {
   "cell_type": "code",
   "execution_count": null,
   "metadata": {},
   "outputs": [],
   "source": [
    "avp_df.calc_frequency(col='PurchDay', target='IsBadBuy').sort_values('IsBadBuy_%')"
   ]
  },
  {
   "cell_type": "code",
   "execution_count": null,
   "metadata": {},
   "outputs": [],
   "source": [
    "cols = ['VehYear', 'VehicleAge', 'PurchYear', 'PurchMonth', 'PurchDay']\n",
    "df_impot = avp_df.cols_importance(cols=cols, target='IsBadBuy')\n",
    "df_impot.head()"
   ]
  },
  {
   "cell_type": "markdown",
   "metadata": {},
   "source": [
    "### Conclusion\n",
    "- avearaged IsBadBuy = 12.3 +/- 2.3 % \n",
    "- there is no corelation of the IsBadBuy with day, month or year of purch => estimation of random fuctuations \n",
    "- => 5% of IsBadBay is a threshold for disctinguishing categories "
   ]
  }
 ],
 "metadata": {
  "kernelspec": {
   "display_name": "env_pp",
   "language": "python",
   "name": "python3"
  },
  "language_info": {
   "codemirror_mode": {
    "name": "ipython",
    "version": 3
   },
   "file_extension": ".py",
   "mimetype": "text/x-python",
   "name": "python",
   "nbconvert_exporter": "python",
   "pygments_lexer": "ipython3",
   "version": "3.12.4"
  }
 },
 "nbformat": 4,
 "nbformat_minor": 2
}
