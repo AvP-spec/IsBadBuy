{
 "cells": [
  {
   "cell_type": "code",
   "execution_count": null,
   "metadata": {},
   "outputs": [],
   "source": [
    "import pandas as pd\n",
    "import matplotlib.pyplot as plt\n",
    "import seaborn as sns\n",
    "from avp_pckg.DataFrame import AvPdataFrame \n",
    "\n",
    "%load_ext autoreload\n",
    "%autoreload 2\n"
   ]
  },
  {
   "cell_type": "code",
   "execution_count": null,
   "metadata": {},
   "outputs": [],
   "source": [
    "df = pd.read_csv('data\\\\df_train.csv', parse_dates=['PurchDate'], index_col=0)\n",
    "# display(df.head())\n",
    "# df.info()\n",
    "\n",
    "# skiped:'Auction',  'VehYear', 'Transmission', 'WheelTypeID', 'Nationality', 'TopThreeAmericanName', 'IsOnlineSale', 'VNST',\n",
    "\n",
    "cols = ['IsBadBuy', 'VehicleAge', 'Make',\n",
    "       'Model', 'Trim', 'SubModel', 'Color',\n",
    "       'WheelType',  'Size',\n",
    "       'PRIMEUNIT', 'AUCGUART', 'BYRNO', 'VNZIP1',\n",
    "        'Auction',  'VehYear', 'Transmission', 'WheelTypeID', 'Nationality', 'TopThreeAmericanName', 'IsOnlineSale', 'VNST',\n",
    "        ]\n",
    "target_col = 'IsBadBuy'\n",
    "df = df.loc[:, cols]\n",
    "df.fillna('empty', inplace=True)\n",
    "df.info()"
   ]
  },
  {
   "cell_type": "code",
   "execution_count": null,
   "metadata": {},
   "outputs": [],
   "source": [
    "df_noWheels = AvPdataFrame(df[df['WheelType'] == 'empty'].copy()) \n",
    "df_Wheels = AvPdataFrame(df[df['WheelType'] != 'empty'].copy())"
   ]
  },
  {
   "cell_type": "code",
   "execution_count": null,
   "metadata": {},
   "outputs": [],
   "source": [
    "df_noWheels.columns"
   ]
  },
  {
   "cell_type": "code",
   "execution_count": null,
   "metadata": {},
   "outputs": [],
   "source": [
    "cols = ['VehicleAge', 'Make',\n",
    "       'Model', 'Trim', 'SubModel', 'Color',\n",
    "        'Size',\n",
    "       'PRIMEUNIT', 'AUCGUART', 'BYRNO', 'VNZIP1', \n",
    "       'Auction', 'VehYear', 'Transmission', 'Nationality', 'TopThreeAmericanName', 'IsOnlineSale', 'VNST',\n",
    "        ]\n",
    "# df_noWheels.info()\n",
    "df_noWheels.cols_importance(cols=cols, target='IsBadBuy').sort_values('delta100', ascending=False)"
   ]
  },
  {
   "cell_type": "code",
   "execution_count": null,
   "metadata": {},
   "outputs": [],
   "source": [
    "df_noWheels.calc_frequency(col='Auction', target=target_col)"
   ]
  },
  {
   "cell_type": "markdown",
   "metadata": {},
   "source": [
    "### Conclusion:\n",
    "- 'Auction' column very important for no-Wheels data! "
   ]
  },
  {
   "cell_type": "code",
   "execution_count": null,
   "metadata": {},
   "outputs": [],
   "source": [
    "df_noWheels.calc_frequency(col='AUCGUART', target=target_col)\n",
    "df_noWheels.calc_frequency(col='PRIMEUNIT', target=target_col) \t\n",
    "df_noWheels.calc_frequency(col='Model', target=target_col)\n",
    "df_noWheels.calc_frequency(col='Nationality', target=target_col)\n",
    "df_noWheels.calc_frequency(col='Size', target=target_col)\n",
    "df_noWheels.calc_frequency(col='Trim', target=target_col) \t\n",
    "df_noWheels.calc_frequency(col='SubModel', target=target_col)\n",
    "### can be important\n",
    "df_noWheels.calc_frequency(col='VNST', target=target_col).head(10)\n",
    "df_noWheels.calc_frequency(col='VehicleAge', target=target_col).sort_values('IsBadBuy_%') \n",
    "df_noWheels.calc_frequency(col='BYRNO', target=target_col).head(10)\n"
   ]
  },
  {
   "cell_type": "code",
   "execution_count": null,
   "metadata": {},
   "outputs": [],
   "source": [
    "df_noWheels.calc_frequency(col='Make', target=target_col).head(20)"
   ]
  },
  {
   "cell_type": "code",
   "execution_count": null,
   "metadata": {},
   "outputs": [],
   "source": [
    "df_noWheels.calc_frequency(col='VNZIP1', target=target_col).head(10)"
   ]
  },
  {
   "cell_type": "markdown",
   "metadata": {},
   "source": [
    "### Conclusion for no Wheels data, important columns:\n",
    "'Auction', 'VNZIP1', 'BYRNO', 'VehicleAge'"
   ]
  },
  {
   "cell_type": "code",
   "execution_count": null,
   "metadata": {},
   "outputs": [],
   "source": [
    "df_Wheels.cols_importance(cols=cols, target='IsBadBuy').sort_values('delta1000', ascending=False)"
   ]
  },
  {
   "cell_type": "code",
   "execution_count": null,
   "metadata": {},
   "outputs": [],
   "source": [
    "df_Wheels.calc_frequency(col='VNZIP1', target=target_col).head(10)"
   ]
  },
  {
   "cell_type": "markdown",
   "metadata": {},
   "source": [
    "### Conclusion \n",
    "coloumns to drop: Nationality, IsOnlineSale, Transmission, Color, TopThreeAmericanName, PRIMEUNIT, AUCGUART, Size, VNST, VehYear\t"
   ]
  }
 ],
 "metadata": {
  "kernelspec": {
   "display_name": "env_pp",
   "language": "python",
   "name": "python3"
  },
  "language_info": {
   "codemirror_mode": {
    "name": "ipython",
    "version": 3
   },
   "file_extension": ".py",
   "mimetype": "text/x-python",
   "name": "python",
   "nbconvert_exporter": "python",
   "pygments_lexer": "ipython3",
   "version": "3.12.4"
  }
 },
 "nbformat": 4,
 "nbformat_minor": 2
}
