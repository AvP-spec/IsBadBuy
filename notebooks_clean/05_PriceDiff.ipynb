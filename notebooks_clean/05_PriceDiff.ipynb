{
 "cells": [
  {
   "cell_type": "code",
   "execution_count": null,
   "metadata": {},
   "outputs": [],
   "source": [
    "import pandas as pd\n",
    "import matplotlib.pyplot as plt\n",
    "import numpy as np\n",
    "import seaborn as sns\n",
    "from avp_pckg.DataFrame import AvPdataFrame \n",
    "from avp_pckg.avp_model_selection import cross_validate_pipe\n",
    "from avp_pckg.avp_model_selection import plot_scores, print_scores, wheels_type_split\n",
    "from avp_pckg.IsBadBuy_functions import load_features, calc_price_diff\n",
    "from avp_pckg.avp_model_selection import PrepareColsBase, PrepareColsTEncoder\n",
    "\n",
    "from sklearn.pipeline import Pipeline\n",
    "from sklearn.impute import SimpleImputer\n",
    "# from sklearn.preprocessing import OneHotEncoder, StandardScaler\n",
    "# from sklearn.compose import ColumnTransformer\n",
    "from sklearn.tree import DecisionTreeClassifier\n",
    "from sklearn.ensemble import RandomForestClassifier\n",
    "from sklearn.linear_model import LogisticRegression\n",
    "\n",
    "\n",
    "from sklearn.metrics import classification_report, f1_score # accuracy_score, recall_score, precision_score\n",
    "\n",
    "%load_ext autoreload\n",
    "%autoreload 2\n"
   ]
  },
  {
   "cell_type": "markdown",
   "metadata": {},
   "source": [
    "# Construction of a base models. Strongly correlated prise columns changed on its differences.  \n",
    "- tree\n",
    "- random forest\n",
    "- logistic regression"
   ]
  },
  {
   "cell_type": "markdown",
   "metadata": {},
   "source": [
    "## 1. Load data as train and test sets."
   ]
  },
  {
   "cell_type": "code",
   "execution_count": null,
   "metadata": {},
   "outputs": [],
   "source": [
    "cols_cat = [ 'Auction', 'VehicleAge',  'WheelType',\n",
    "           'BYRNO', 'VNZIP1', # info byer\n",
    "           'Make', 'Model', 'Trim', 'SubModel', # info model\n",
    "           'Color',  'PRIMEUNIT', 'AUCGUART', 'Size', #  info model, low information\n",
    "            ##\n",
    "           'IsOnlineSale', 'Transmission', # low information\n",
    "           'Nationality', 'TopThreeAmericanName', # redundant information\n",
    "          'VNST', 'VehYear', 'WheelTypeID' # redundant information\n",
    "            ] \n",
    "\n",
    "cols_num = [\n",
    "            'MMRAcquisitionAuctionAveragePrice', 'MMRAcquisitionAuctionCleanPrice',\n",
    "            'MMRAcquisitionRetailAveragePrice', 'MMRAcquisitonRetailCleanPrice',\n",
    "            'MMRCurrentAuctionAveragePrice', 'MMRCurrentAuctionCleanPrice',\n",
    "            'MMRCurrentRetailAveragePrice', 'MMRCurrentRetailCleanPrice', \n",
    "            'VehOdo', 'VehBCost', 'WarrantyCost']"
   ]
  },
  {
   "cell_type": "code",
   "execution_count": null,
   "metadata": {},
   "outputs": [],
   "source": [
    "### some feature columns remooved during loading and NaN are fiild. \n",
    "fname = 'data\\\\features_train.csv'\n",
    "X_train = load_features(fname=fname, cols_cat=cols_cat, cols_num=cols_num)\n",
    "X_train = calc_price_diff(X_train) ### prise columns changed on price difference columns\n",
    "tname = 'data\\\\target_train.csv'\n",
    "y_train = features = pd.read_csv(tname, index_col='RefId')\n",
    "X_train.head()\n",
    "\n",
    "fname = 'data\\\\features_test.csv'\n",
    "X_test = load_features(fname=fname, cols_cat=cols_cat, cols_num=cols_num)\n",
    "X_test = calc_price_diff(X_test)\n",
    "tname = 'data\\\\target_test.csv'\n",
    "y_test = features = pd.read_csv(tname, index_col='RefId')\n",
    "X_test.head()\n",
    "\n",
    "\n"
   ]
  },
  {
   "cell_type": "markdown",
   "metadata": {},
   "source": [
    "### 2.1 Select categorical and numerical columns\n"
   ]
  },
  {
   "cell_type": "code",
   "execution_count": null,
   "metadata": {},
   "outputs": [],
   "source": [
    "X_train.columns"
   ]
  },
  {
   "cell_type": "code",
   "execution_count": null,
   "metadata": {},
   "outputs": [],
   "source": [
    "cols_cat = ['Auction', 'VehicleAge', 'Make', 'Model', 'Trim', 'SubModel', 'WheelType', 'BYRNO', 'VNZIP1', # cols to use\n",
    "            'Nationality', 'IsOnlineSale', 'Transmission', 'Color', 'TopThreeAmericanName', 'PRIMEUNIT', 'AUCGUART', 'Size', 'VNST', 'VehYear', 'WheelTypeID'] # cols to drop\n",
    "\n",
    "cols_num = ['RetailClean', 'AcqClean', 'AcqRetail', 'AcqAuc',\n",
    "            'VehOdo', 'VehBCost', 'WarrantyCost']"
   ]
  },
  {
   "cell_type": "markdown",
   "metadata": {},
   "source": [
    "## 2. Tree-model\n",
    "cross-validate "
   ]
  },
  {
   "cell_type": "code",
   "execution_count": null,
   "metadata": {},
   "outputs": [],
   "source": [
    "# execution time= 34 s \n",
    "param_name ='max_depth'\n",
    "param_range = [3, 4, 5, 6, 7, 8, 9, 10, 12, 14, 16, 18,]\n",
    "score_dict = cross_validate_pipe(X=X_train,\n",
    "                                y=y_train,\n",
    "                                cols_cat=cols_cat,\n",
    "                                cols_num=cols_num,\n",
    "                                param_name=param_name,\n",
    "                                param_range= param_range,\n",
    "                                cv=5, \n",
    "                                max_cat=25,\n",
    "                                estimator_name='tree',\n",
    "                                n_jobs=-1,\n",
    "                                )\n",
    "\n",
    "plot_scores(score_dict, param_name='max_depth tree')\n",
    "print_scores(score_dict)\n"
   ]
  },
  {
   "cell_type": "markdown",
   "metadata": {},
   "source": [
    "## 2. Random Forest-model with whole dataset\n",
    "cross-validate "
   ]
  },
  {
   "cell_type": "code",
   "execution_count": null,
   "metadata": {},
   "outputs": [],
   "source": [
    "# execution time= 2m 12s \n",
    "param_name ='max_depth'\n",
    "param_range = [3, 4, 5, 6, 7, 8, 9, 10, 12, 14, 16, 18,]\n",
    "score_dict = cross_validate_pipe(X=X_train,\n",
    "                                y=y_train,\n",
    "                                cols_cat=cols_cat,\n",
    "                                cols_num=cols_num,\n",
    "                                param_name=param_name,\n",
    "                                param_range= param_range,\n",
    "                                cv=5, \n",
    "                                max_cat=25,\n",
    "                                estimator_name='forest', # 'forest', 'logistic', 'tree',\n",
    "                                n_jobs=-1,\n",
    "                                )\n",
    "\n",
    "plot_scores(score_dict, param_name=param_name)\n",
    "print_scores(score_dict)"
   ]
  },
  {
   "cell_type": "markdown",
   "metadata": {},
   "source": [
    "## 2. Logistic Regresion - model with whole dataset\n",
    "cross-validate "
   ]
  },
  {
   "cell_type": "code",
   "execution_count": null,
   "metadata": {},
   "outputs": [],
   "source": [
    "param_name ='C'\n",
    "param_range = [0.001, 0.002, 0.004, 0.01, 0.02, 0.04, 0.1, 1, 10,]\n",
    "score_dict = cross_validate_pipe(X=X_train,\n",
    "                                y=y_train,\n",
    "                                cols_cat=cols_cat,\n",
    "                                cols_num=cols_num,\n",
    "                                param_name=param_name,\n",
    "                                param_range= param_range,\n",
    "                                cv=5, \n",
    "                                max_cat=25,\n",
    "                                estimator_name='logistic', # 'forest', 'logistic', 'tree',\n",
    "                                n_jobs=-1,\n",
    "                                )\n",
    "\n",
    "plot_scores(score_dict, param_name=param_name, xlog=True)\n",
    "print_scores(score_dict)"
   ]
  },
  {
   "cell_type": "markdown",
   "metadata": {},
   "source": [
    "Cross-Validation with price differencies\n",
    "| model | parameter | f1_cv | precision  | recall | f1-score | support |\n",
    "|---|---|---|---|---|---|---|\n",
    "| Tree | depth=5 | 0.356 |- |- | - | - |\n",
    "| Forest | depth=7 |0.379 | - | - |- | - |\n",
    "| LogReg | C=0.01 | 0.375 | - | - |- | - |\n"
   ]
  },
  {
   "cell_type": "markdown",
   "metadata": {},
   "source": [
    "# Predictoins"
   ]
  },
  {
   "cell_type": "code",
   "execution_count": null,
   "metadata": {},
   "outputs": [],
   "source": [
    "\n",
    "### Tree model #########################################################\n",
    "pipe_tree = Pipeline(steps=[\n",
    "('base', PrepareColsBase(cols_cat=cols_cat, cols_num=cols_num, max_cat=25).make_pipe()),\n",
    "('model', DecisionTreeClassifier(class_weight='balanced', random_state=42, max_depth=5))\n",
    "])\n",
    "\n",
    "pipe_tree.fit(X_train, y_train['IsBadBuy'].to_numpy())\n",
    "\n",
    "pred_tree = pipe_tree.predict(X_test)\n",
    "df_pred_tree = pd.DataFrame(pred_tree, index=X_test.index)\n",
    "df_pred_tree.columns = ['tree']\n",
    "\n",
    "report = classification_report(y_test, pred_tree)\n",
    "print('tree report: \\n', report)\n",
    "print('tree pred.sum():', pred_tree.sum())\n",
    "\n"
   ]
  },
  {
   "cell_type": "code",
   "execution_count": null,
   "metadata": {},
   "outputs": [],
   "source": [
    "\n",
    "### Forest model #########################################################\n",
    "pipe_forest = Pipeline(steps=[\n",
    "('base', PrepareColsBase(cols_cat=cols_cat, cols_num=cols_num, max_cat=25).make_pipe()),\n",
    "('model', RandomForestClassifier(class_weight='balanced', random_state=42, max_depth=7))\n",
    "])\n",
    "\n",
    "pipe_forest.fit(X_train, y_train['IsBadBuy'].to_numpy())\n",
    "pred_forest = pipe_forest.predict(X_test)\n",
    "df_pred_forest = pd.DataFrame(pred_forest, index=X_test.index)\n",
    "df_pred_forest.columns = ['forest']\n",
    "\n",
    "\n",
    "report = classification_report(y_test, pred_forest)\n",
    "print('forest report: \\n', report)\n",
    "print('forest pred.sum():', pred_forest.sum())\n"
   ]
  },
  {
   "cell_type": "code",
   "execution_count": null,
   "metadata": {},
   "outputs": [],
   "source": [
    "pipe_reg = Pipeline(steps=[\n",
    "('preprocessing', PrepareColsBase(cols_cat=cols_cat, cols_num=cols_num, max_cat=25).make_pipe()),\n",
    "('model', LogisticRegression(class_weight='balanced', random_state=42, C=0.01))\n",
    "])\n",
    "\n",
    "pipe_reg.fit(X_train, y_train['IsBadBuy'].to_numpy())\n",
    "pred_reg = pipe_reg.predict(X_test)\n",
    "df_pred_reg = pd.DataFrame(pred_reg, index=X_test.index)\n",
    "df_pred_reg.columns = ['logistic']\n",
    "\n",
    "report = classification_report(y_test, pred_reg)\n",
    "print('regression report: \\n', report)\n",
    "print('logistig pred.sum():', pred_reg.sum())\n",
    "\n"
   ]
  },
  {
   "cell_type": "markdown",
   "metadata": {},
   "source": [
    "Cross-Validation with price differencies\n",
    "| model | parameter | f1_cv | precision  | recall | f1-score | support |\n",
    "|---|---|---|---|---|---|---|\n",
    "| Tree | depth=5 | 0.356 |0.31 |0.46 | 0.37 | 1945 |\n",
    "| Forest | depth=7 |0.379 | 0.27  | 0.56 |0.37| 2636 |\n",
    "| LogReg | C=0.01 | 0.375 |  0.26 | 0.63 |0.36 | 3173 |\n"
   ]
  },
  {
   "cell_type": "markdown",
   "metadata": {},
   "source": [
    "## Ensamble"
   ]
  },
  {
   "cell_type": "code",
   "execution_count": null,
   "metadata": {},
   "outputs": [],
   "source": [
    "df_pred = pd.concat([df_pred_tree, df_pred_forest, df_pred_reg], axis=1)\n",
    "df_pred.loc[:, 'sum'] = df_pred['tree'] + df_pred['forest'] + df_pred['logistic']\n",
    "df_pred.loc[:, 'result1'] = round((df_pred['sum']+1)/3).astype(int)\n",
    "df_pred.loc[:, 'result2'] = round((df_pred['sum']+0)/3).astype(int)\n",
    "df_pred.loc[:, 'result3'] = round((df_pred['sum']-1)/3).astype(int)\n",
    "\n",
    "display(df_pred.head())\n",
    "print(df_pred.sum())"
   ]
  },
  {
   "cell_type": "code",
   "execution_count": null,
   "metadata": {},
   "outputs": [],
   "source": [
    "report = classification_report(y_test, df_pred['result3'])\n",
    "print('result3 report: \\n', report)\n",
    "\n",
    "# report = classification_report(y_test, df_pred['result2'])\n",
    "# print('result2: \\n', report)\n",
    "\n",
    "report = classification_report(y_test, df_pred['result1'])\n",
    "print('result1: \\n', report)"
   ]
  },
  {
   "cell_type": "markdown",
   "metadata": {},
   "source": [
    "Cross-Validation with price differencies\n",
    "| model | parameter | f1_cv | precision  | recall | f1-score | pred.sum() |\n",
    "|---|---|---|---|---|---|---|\n",
    "| Tree | depth=5 | 0.356 |0.31 |0.46 | 0.37 | 1945 |\n",
    "| Forest | depth=7 |0.379 | 0.27  | 0.56 |0.37| 2636 |\n",
    "| LogReg | C=0.01 | 0.375 |  0.26 | 0.63 |0.36 | 3173 |\n",
    "|Ensamble prec| - |- | 0.40| 0.41|0.40| 1343|\n",
    "|Ensamble recall| - |- |0.23|0.68|0.34|3873|"
   ]
  },
  {
   "cell_type": "markdown",
   "metadata": {},
   "source": [
    "Cross-Validation with price differencies\n",
    "| model | parameter | f1_cv | precision  | recall | f1-score | pred.sum() |\n",
    "|---|---|---|---|---|---|---|\n",
    "| Tree | depth=5 | 0.356 |0.31 |0.46 | 0.37 | 1945 |\n",
    "| Forest | depth=7 |0.379 | 0.27  | 0.56 | 0.37 | 2636 |\n",
    "| LogReg | C=0.01 | 0.375 |  0.26 | 0.63 | 0.36 | 3173 |\n",
    "|Ensamble| - |- | 0.40 | 0.41 | 0.40 | 1343 |"
   ]
  }
 ],
 "metadata": {
  "kernelspec": {
   "display_name": "env_pp",
   "language": "python",
   "name": "python3"
  },
  "language_info": {
   "codemirror_mode": {
    "name": "ipython",
    "version": 3
   },
   "file_extension": ".py",
   "mimetype": "text/x-python",
   "name": "python",
   "nbconvert_exporter": "python",
   "pygments_lexer": "ipython3",
   "version": "3.12.4"
  }
 },
 "nbformat": 4,
 "nbformat_minor": 2
}
