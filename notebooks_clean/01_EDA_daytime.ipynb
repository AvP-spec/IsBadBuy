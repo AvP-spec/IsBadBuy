{
 "cells": [
  {
   "cell_type": "code",
   "execution_count": null,
   "metadata": {},
   "outputs": [],
   "source": [
    "import pandas as pd\n",
    "import numpy as np\n",
    "import matplotlib.pyplot as plt\n",
    "import seaborn as sns\n"
   ]
  },
  {
   "cell_type": "markdown",
   "metadata": {},
   "source": [
    "# Load origenal data\n",
    "dataset: data\\\\DontGetKicked\\\\training.csv\n",
    "aim: data\\\\DontGetKicked\\\\test.csv\n"
   ]
  },
  {
   "cell_type": "code",
   "execution_count": null,
   "metadata": {},
   "outputs": [],
   "source": [
    "df = pd.read_csv('data\\\\DontGetKicked\\\\training.csv', parse_dates=['PurchDate'], index_col=0)\n",
    "#df.loc[:, 'PurchDate'] = pd.to_datetime(df.loc[:, 'PurchDate'], unit='s', origin='unix')\n",
    "display(df.head())\n",
    "df.info()"
   ]
  },
  {
   "cell_type": "markdown",
   "metadata": {},
   "source": [
    "# Training-test split\n",
    "save data in folder: data\\\\"
   ]
  },
  {
   "cell_type": "code",
   "execution_count": null,
   "metadata": {},
   "outputs": [],
   "source": [
    "from sklearn.model_selection import train_test_split\n",
    "\n",
    "features = df.drop(columns=['IsBadBuy'])\n",
    "target = df['IsBadBuy']\n",
    "\n",
    "features_train, features_test, target_train, target_test = train_test_split(features, \n",
    "                                                                            target, \n",
    "                                                                            test_size=0.15, \n",
    "                                                                            random_state=42)\n",
    "\n",
    "features_train.to_csv('data\\\\features_train.csv')\n",
    "target_train.to_csv('data\\\\target_train.csv')\n",
    "\n",
    "features_test.to_csv('data\\\\features_test.csv')\n",
    "target_test.to_csv('data\\\\target_test.csv')"
   ]
  },
  {
   "cell_type": "code",
   "execution_count": null,
   "metadata": {},
   "outputs": [],
   "source": [
    "features_train.head()\n",
    "print(features_train.shape)\n",
    "print(target_train.shape)\n",
    "print(target_train.to_frame().shape)"
   ]
  },
  {
   "cell_type": "markdown",
   "metadata": {},
   "source": [
    "# Make df_train"
   ]
  },
  {
   "cell_type": "code",
   "execution_count": null,
   "metadata": {},
   "outputs": [],
   "source": [
    "df_train = features_train.copy()\n",
    "df_train.insert(0, 'IsBadBuy', target_train)\n",
    "df_train.sort_index().head()\n",
    "df_train.to_csv('data\\\\df_train.csv')"
   ]
  },
  {
   "cell_type": "code",
   "execution_count": null,
   "metadata": {},
   "outputs": [],
   "source": [
    "df_train.head()\n"
   ]
  },
  {
   "cell_type": "markdown",
   "metadata": {},
   "source": [
    "# EDA"
   ]
  },
  {
   "cell_type": "code",
   "execution_count": null,
   "metadata": {},
   "outputs": [],
   "source": [
    "df.columns"
   ]
  },
  {
   "cell_type": "code",
   "execution_count": null,
   "metadata": {},
   "outputs": [],
   "source": [
    "df.plot(x='VehYear', y='VehicleAge', kind='scatter')"
   ]
  },
  {
   "cell_type": "code",
   "execution_count": null,
   "metadata": {},
   "outputs": [],
   "source": [
    "col_year= ['IsBadBuy', 'PurchDate', 'VehYear', 'VehicleAge']\n",
    "df_year = df[col_year].copy()\n",
    "df_year.loc[:, 'PurchYear'] = df_year['PurchDate'].dt.year\n",
    "df_year.loc[:, 'PurchMonth'] = df_year['PurchDate'].dt.month\n",
    "df_year.loc[:, 'PurchDay'] = df_year['PurchDate'].dt.day\n",
    "df_year.loc[:, 'Age2'] = df_year['PurchYear'] - df_year['VehYear']\n",
    "df_year.head()\n",
    "df_year.plot(x='VehicleAge', y='Age2', kind='scatter')"
   ]
  },
  {
   "cell_type": "markdown",
   "metadata": {},
   "source": [
    "### conclusion\n",
    "- strong correlation between 'VehYear' and 'VehicleAge' is related to fact that all cars were bought within 2-years period. \n",
    "- PurchYear - 'VehYear' = 'VehicleAge' (just 7 exeptions, month of the year was not considered)\n",
    "- 'VehYear' can be an additional indication for car model"
   ]
  },
  {
   "cell_type": "code",
   "execution_count": null,
   "metadata": {},
   "outputs": [],
   "source": [
    "\n",
    "df_year.head(8)"
   ]
  },
  {
   "cell_type": "code",
   "execution_count": null,
   "metadata": {},
   "outputs": [],
   "source": [
    "df_year.info()"
   ]
  },
  {
   "cell_type": "code",
   "execution_count": null,
   "metadata": {},
   "outputs": [],
   "source": [
    "# %load_ext autoreload\n",
    "# %autoreload 2\n",
    "\n",
    "%reload_ext autoreload\n",
    "\n",
    "from avp_pckg.DataFrame import AvPdataFrame \n",
    "avp_df = AvPdataFrame(df_year)\n",
    "\n",
    "avp_df.calc_frequency(col='Age2', target='IsBadBuy').sort_index()"
   ]
  },
  {
   "cell_type": "code",
   "execution_count": null,
   "metadata": {},
   "outputs": [],
   "source": [
    "avp_df.calc_frequency(col='PurchMonth', target='IsBadBuy').sort_values('IsBadBuy_%')"
   ]
  },
  {
   "cell_type": "code",
   "execution_count": null,
   "metadata": {},
   "outputs": [],
   "source": [
    "avp_df.calc_frequency(col='PurchDay', target='IsBadBuy').sort_values('IsBadBuy_%')"
   ]
  },
  {
   "cell_type": "code",
   "execution_count": null,
   "metadata": {},
   "outputs": [],
   "source": [
    "avp_df.columns\n",
    "avp_df.shape"
   ]
  },
  {
   "cell_type": "code",
   "execution_count": null,
   "metadata": {},
   "outputs": [],
   "source": [
    "%load_ext autoreload\n",
    "%autoreload 2\n",
    "#reload(AvPdataFrame )\n",
    "cols = ['VehYear', 'VehicleAge', 'PurchYear', 'PurchMonth', 'PurchDay']\n",
    "df_impot = avp_df.cols_importance(cols=cols, target='IsBadBuy')\n",
    "df_impot.head()"
   ]
  },
  {
   "cell_type": "code",
   "execution_count": null,
   "metadata": {},
   "outputs": [],
   "source": [
    "avp_df['IsBadBuy'].sum() / avp_df.shape[0]"
   ]
  },
  {
   "cell_type": "markdown",
   "metadata": {},
   "source": [
    "### Conclusion\n",
    "- avearaged IsBadBuy = 12.3 +/- 2.3 % \n",
    "- there is no corelation of the IsBadBuy with day, month or year of purch => estimation of random fuctuations \n",
    "- => 5% of IsBadBay is a threshold for disctinguishing categories "
   ]
  },
  {
   "cell_type": "code",
   "execution_count": null,
   "metadata": {},
   "outputs": [],
   "source": [
    "df.columns"
   ]
  },
  {
   "cell_type": "code",
   "execution_count": null,
   "metadata": {},
   "outputs": [],
   "source": [
    "df = AvPdataFrame(df)"
   ]
  },
  {
   "cell_type": "code",
   "execution_count": null,
   "metadata": {},
   "outputs": [],
   "source": [
    "df.isna().sum()\n",
    "# df.isnull().sum() ### the same result ???\n"
   ]
  },
  {
   "cell_type": "code",
   "execution_count": null,
   "metadata": {},
   "outputs": [],
   "source": [
    "df.fillna('empty', inplace=True)\n",
    "df.isna().sum()"
   ]
  },
  {
   "cell_type": "code",
   "execution_count": null,
   "metadata": {},
   "outputs": [],
   "source": [
    "df.dtypes"
   ]
  },
  {
   "cell_type": "code",
   "execution_count": null,
   "metadata": {},
   "outputs": [],
   "source": [
    "### mixed data types leads to error for sorting command\n",
    "df.loc[:, 'WheelTypeID'] = df['WheelTypeID'].astype('str') ### how to make check in the function?\n",
    "type(df['WheelTypeID'][1])"
   ]
  },
  {
   "cell_type": "markdown",
   "metadata": {},
   "source": []
  },
  {
   "cell_type": "code",
   "execution_count": null,
   "metadata": {},
   "outputs": [],
   "source": [
    "df.calc_frequency('WheelTypeID', 'IsBadBuy')"
   ]
  },
  {
   "cell_type": "code",
   "execution_count": null,
   "metadata": {},
   "outputs": [],
   "source": [
    "cols = ['Auction', 'VehYear', 'VehicleAge', 'Make',\n",
    "       'Model', 'Trim', 'SubModel', 'Color', 'Transmission', 'WheelTypeID',\n",
    "       'WheelType', 'Nationality', 'Size', 'TopThreeAmericanName',\n",
    "       'PRIMEUNIT', 'AUCGUART', 'BYRNO', 'VNZIP1', 'VNST',\n",
    "       'IsOnlineSale', ]\n",
    "\n",
    "df.cols_importance(cols=cols, target='IsBadBuy').sort_values('delta1000', ascending=False)"
   ]
  },
  {
   "cell_type": "markdown",
   "metadata": {},
   "source": [
    "### Conclusion \n",
    "- non informative collumns:  Transmission (4 -> 3), IsOnlineSale(2), Nationality (5), Auction(3), TopThreeAmericanName (5)"
   ]
  },
  {
   "cell_type": "code",
   "execution_count": null,
   "metadata": {},
   "outputs": [],
   "source": [
    "df.calc_frequency('WheelTypeID', 'IsBadBuy')"
   ]
  },
  {
   "cell_type": "code",
   "execution_count": null,
   "metadata": {},
   "outputs": [],
   "source": [
    "df.calc_frequency('WheelType', 'IsBadBuy')"
   ]
  },
  {
   "cell_type": "markdown",
   "metadata": {},
   "source": [
    "count of WheelTypeID 0.0 + empty = 3169 + 5 = 3174 = WheelType empty \n",
    "- WheelTypeID is redundency of WheelType column with only 5 additional assignments - will be droped "
   ]
  },
  {
   "cell_type": "code",
   "execution_count": null,
   "metadata": {},
   "outputs": [],
   "source": [
    "3174\n",
    "3169 + 5\n"
   ]
  },
  {
   "cell_type": "code",
   "execution_count": null,
   "metadata": {},
   "outputs": [],
   "source": [
    "df.columns"
   ]
  },
  {
   "cell_type": "code",
   "execution_count": null,
   "metadata": {},
   "outputs": [],
   "source": [
    "df['VNST'].value_counts()\n",
    "df_TX = df[df['VNST'] == 'TX']\n",
    "\n",
    "df_TX = df_TX.loc[:, ['VNST', 'VNZIP1', 'BYRNO']].copy()\n",
    "df_TX['VNZIP1'].value_counts().sort_index()\n",
    "\n",
    "df_TX_75236 = df_TX[df_TX['VNZIP1'] == 75236 ]\n",
    "df_TX_75236['BYRNO'].unique()"
   ]
  },
  {
   "cell_type": "code",
   "execution_count": null,
   "metadata": {},
   "outputs": [],
   "source": [
    "# dcols = ['Transmission', 'IsOnlineSale', 'Nationality', 'Auction', 'TopThreeAmericanName', 'WheelTypeID']\n",
    "# df.drop(columns=dcols, inplace=True)"
   ]
  },
  {
   "cell_type": "code",
   "execution_count": null,
   "metadata": {},
   "outputs": [],
   "source": [
    "num_cols = ['VehOdo', 'VehBCost']"
   ]
  }
 ],
 "metadata": {
  "kernelspec": {
   "display_name": "Python 3",
   "language": "python",
   "name": "python3"
  },
  "language_info": {
   "codemirror_mode": {
    "name": "ipython",
    "version": 3
   },
   "file_extension": ".py",
   "mimetype": "text/x-python",
   "name": "python",
   "nbconvert_exporter": "python",
   "pygments_lexer": "ipython3",
   "version": "3.12.4"
  }
 },
 "nbformat": 4,
 "nbformat_minor": 2
}
