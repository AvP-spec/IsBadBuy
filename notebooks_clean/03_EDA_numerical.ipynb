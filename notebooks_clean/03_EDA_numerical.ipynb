{
 "cells": [
  {
   "cell_type": "code",
   "execution_count": null,
   "metadata": {},
   "outputs": [],
   "source": [
    "import pandas as pd\n",
    "import matplotlib.pyplot as plt\n",
    "import seaborn as sns\n",
    "from avp_pckg.DataFrame import AvPdataFrame \n",
    "\n",
    "%load_ext autoreload\n",
    "%autoreload 2"
   ]
  },
  {
   "cell_type": "code",
   "execution_count": null,
   "metadata": {},
   "outputs": [],
   "source": [
    "df = pd.read_csv('data\\\\df_train.csv', parse_dates=['PurchDate'], index_col=0)\n",
    "df.columns\n",
    "cols = ['IsBadBuy','VehicleAge', 'Make', 'Model', 'WheelType', 'VehOdo',\n",
    "        'MMRAcquisitionAuctionAveragePrice', 'MMRAcquisitionAuctionCleanPrice',\n",
    "       'MMRAcquisitionRetailAveragePrice', 'MMRAcquisitonRetailCleanPrice',\n",
    "       'MMRCurrentAuctionAveragePrice', 'MMRCurrentAuctionCleanPrice',\n",
    "       'MMRCurrentRetailAveragePrice', 'MMRCurrentRetailCleanPrice',\n",
    "       'VehBCost', 'WarrantyCost',\n",
    "       ]\n",
    "df = df.loc[:, cols].copy()\n",
    "df.loc[ :, 'WheelType'] = df['WheelType'].fillna(value='empty')\n",
    "df.fillna(value=0, inplace=True)\n",
    "df = AvPdataFrame(df)\n",
    "\n",
    "### Price: Average - Clean, Auction - Retail, Acquisition - Current\n",
    "\n",
    "df.info()"
   ]
  },
  {
   "cell_type": "code",
   "execution_count": null,
   "metadata": {},
   "outputs": [],
   "source": [
    "# 'MMRAcquisitionAuctionAveragePrice', 'MMRAcquisitionAuctionCleanPrice'\n",
    "df.loc[:, 'AcqAuc'] = df['MMRAcquisitionAuctionCleanPrice'] - df['MMRAcquisitionAuctionAveragePrice'] # Clean - Average\n",
    "# 'MMRAcquisitionRetailAveragePrice', 'MMRAcquisitonRetailCleanPrice'\n",
    "df.loc[:, 'AcqRetail'] = df['MMRAcquisitonRetailCleanPrice'] - df['MMRAcquisitionRetailAveragePrice'] # Clean - Average\n",
    "\n",
    "df.loc[:, 'AcqClean'] = df['MMRAcquisitonRetailCleanPrice'] - df['MMRAcquisitionAuctionCleanPrice'] # Retail - Auction\n",
    "df.loc[:, 'RetailClean'] = df['MMRAcquisitonRetailCleanPrice'] - df['MMRCurrentRetailCleanPrice'] # Acquisiton - Current"
   ]
  },
  {
   "cell_type": "code",
   "execution_count": null,
   "metadata": {},
   "outputs": [],
   "source": [
    "fig, axs = plt.subplots(nrows=2, ncols=2, figsize=(10, 10))\n",
    "sns.scatterplot(df, x='MMRAcquisitionAuctionCleanPrice', y='AcqAuc', hue='IsBadBuy', s=5, ax=axs[0][0]) # Clean - Average\n",
    "sns.scatterplot(df, x='MMRAcquisitonRetailCleanPrice', y='AcqRetail', hue='IsBadBuy', s=5, ax=axs[1][0]) # Clean - Average\n",
    "sns.scatterplot(df, x='MMRAcquisitonRetailCleanPrice', y='AcqClean', hue='IsBadBuy',s=5, ax=axs[0][1]) # Retail - Auction\n",
    "sns.scatterplot(df, x='MMRAcquisitonRetailCleanPrice', y='RetailClean', hue='IsBadBuy',s=5, ax=axs[1][1]) # Acquisiton - Current"
   ]
  },
  {
   "cell_type": "code",
   "execution_count": null,
   "metadata": {},
   "outputs": [],
   "source": [
    "df.columns\n",
    "df.calc_frequency(col='Make', target='IsBadBuy').head(5)\n",
    "\n",
    "df_CHEVROLET = df[df['Make'] == 'CHEVROLET']\n",
    "\n",
    "fig, axs = plt.subplots(nrows=2, ncols=2, figsize=(10, 10))\n",
    "sns.scatterplot(df_CHEVROLET, x='MMRAcquisitionAuctionCleanPrice', y='AcqAuc', hue='IsBadBuy', s=5, ax=axs[0][0]) ## Clean - Average  'VehicleAge' 'IsBadBuy' 'MMRAcquisitionAuctionAveragePrice'\n",
    "sns.scatterplot(df_CHEVROLET, x='MMRAcquisitonRetailCleanPrice', y='AcqRetail', hue='IsBadBuy', s=5, ax=axs[1][0]) # Clean - Average\n",
    "\n",
    "sns.scatterplot(df_CHEVROLET, x='MMRAcquisitonRetailCleanPrice', y='AcqClean', hue='IsBadBuy', s=5, ax=axs[0][1]) # Retail - Auction\n",
    "sns.scatterplot(df_CHEVROLET, x='MMRAcquisitonRetailCleanPrice', y='RetailClean', hue='IsBadBuy', s=5, ax=axs[1][1]) # Acquisiton - Current"
   ]
  },
  {
   "cell_type": "code",
   "execution_count": null,
   "metadata": {},
   "outputs": [],
   "source": [
    "df.columns\n",
    "df.calc_frequency(col='Model', target='IsBadBuy').head(5)\n",
    "\n",
    "df_PT_CRUISER = df[df['Model'] == 'PT CRUISER']\n",
    "\n",
    "fig, axs = plt.subplots(nrows=2, ncols=2, figsize=(10, 10))\n",
    "sns.scatterplot(df_PT_CRUISER, x='MMRAcquisitionAuctionCleanPrice', y='AcqAuc', hue='IsBadBuy',s=5, ax=axs[0][0]) ## Clean - Average  'VehicleAge' 'IsBadBuy' 'MMRAcquisitionAuctionAveragePrice'\n",
    "sns.scatterplot(df_PT_CRUISER, x='MMRAcquisitonRetailCleanPrice', y='AcqRetail', hue='IsBadBuy',s=5, ax=axs[1][0]) # Clean - Average\n",
    "\n",
    "sns.scatterplot(df_PT_CRUISER, x='MMRAcquisitonRetailCleanPrice', y='AcqClean', hue='IsBadBuy',s=5, ax=axs[0][1]) # Retail - Auction\n",
    "sns.scatterplot(df_PT_CRUISER, x='MMRAcquisitonRetailCleanPrice', y='RetailClean', hue='IsBadBuy',s=5, ax=axs[1][1]) # Acquisiton - Current\n"
   ]
  },
  {
   "cell_type": "markdown",
   "metadata": {},
   "source": [
    "### Split: with and without wheels"
   ]
  },
  {
   "cell_type": "code",
   "execution_count": null,
   "metadata": {},
   "outputs": [],
   "source": [
    "df_noWheels = df[df['WheelType'] == 'empty']\n",
    "df_Wheels = df[df['WheelType'] != 'empty']\n",
    "df_noWheels.head()"
   ]
  },
  {
   "cell_type": "code",
   "execution_count": null,
   "metadata": {},
   "outputs": [],
   "source": [
    "fig, axs = plt.subplots(nrows=2, ncols=2, figsize=(10, 10))\n",
    "sns.scatterplot(df_noWheels, x='MMRAcquisitionAuctionCleanPrice', y='AcqAuc', hue='IsBadBuy', s=5, ax=axs[0][0]) # Clean - Average\n",
    "sns.scatterplot(df_noWheels, x='MMRAcquisitonRetailCleanPrice', y='AcqRetail', hue='IsBadBuy', s=5, ax=axs[1][0]) # Clean - Average\n",
    "sns.scatterplot(df_noWheels, x='MMRAcquisitonRetailCleanPrice', y='AcqClean', hue='IsBadBuy',s=5, ax=axs[0][1]) # Retail - Auction\n",
    "sns.scatterplot(df_noWheels, x='MMRAcquisitonRetailCleanPrice', y='RetailClean', hue='IsBadBuy',s=5, ax=axs[1][1]) # Acquisiton - Current\n"
   ]
  },
  {
   "cell_type": "code",
   "execution_count": null,
   "metadata": {},
   "outputs": [],
   "source": [
    "fig, axs = plt.subplots(nrows=2, ncols=2, figsize=(10, 10))\n",
    "sns.scatterplot(df_Wheels, x='MMRAcquisitionAuctionCleanPrice', y='AcqAuc', hue='IsBadBuy', s=5, ax=axs[0][0]) # Clean - Average\n",
    "sns.scatterplot(df_Wheels, x='MMRAcquisitonRetailCleanPrice', y='AcqRetail', hue='IsBadBuy', s=5, ax=axs[1][0]) # Clean - Average\n",
    "sns.scatterplot(df_Wheels, x='MMRAcquisitonRetailCleanPrice', y='AcqClean', hue='IsBadBuy',s=5, ax=axs[0][1]) # Retail - Auction\n",
    "sns.scatterplot(df_Wheels, x='MMRAcquisitonRetailCleanPrice', y='RetailClean', hue='IsBadBuy',s=5, ax=axs[1][1]) # Acquisiton - Current"
   ]
  },
  {
   "cell_type": "code",
   "execution_count": null,
   "metadata": {},
   "outputs": [],
   "source": [
    "df_noWheels = AvPdataFrame(df_noWheels)\n",
    "df_noWheels.calc_frequency(col='Model', target='IsBadBuy').head(5)\n",
    "\n",
    "df_PT_CRUISER = df_noWheels[df_noWheels['Model'] == 'PT CRUISER']"
   ]
  },
  {
   "cell_type": "code",
   "execution_count": null,
   "metadata": {},
   "outputs": [],
   "source": [
    "fig, axs = plt.subplots(nrows=2, ncols=2, figsize=(10, 10))\n",
    "sns.scatterplot(df_PT_CRUISER, x='MMRAcquisitionAuctionCleanPrice', y='AcqAuc', hue='IsBadBuy',s=5, ax=axs[0][0]) ## Clean - Average  'VehicleAge' 'IsBadBuy' 'MMRAcquisitionAuctionAveragePrice'\n",
    "sns.scatterplot(df_PT_CRUISER, x='MMRAcquisitonRetailCleanPrice', y='AcqRetail', hue='IsBadBuy',s=5, ax=axs[1][0]) # Clean - Average\n",
    "\n",
    "sns.scatterplot(df_PT_CRUISER, x='MMRAcquisitonRetailCleanPrice', y='AcqClean', hue='IsBadBuy',s=5, ax=axs[0][1]) # Retail - Auction\n",
    "sns.scatterplot(df_PT_CRUISER, x='MMRAcquisitonRetailCleanPrice', y='RetailClean', hue='IsBadBuy',s=5, ax=axs[1][1]) # Acquisiton - Current"
   ]
  },
  {
   "cell_type": "code",
   "execution_count": null,
   "metadata": {},
   "outputs": [],
   "source": [
    "df.columns"
   ]
  },
  {
   "cell_type": "code",
   "execution_count": null,
   "metadata": {},
   "outputs": [],
   "source": [
    "cols_num =['IsBadBuy', 'VehicleAge', 'VehOdo',\n",
    "       'MMRAcquisitionAuctionAveragePrice', 'MMRAcquisitionAuctionCleanPrice',\n",
    "       'MMRAcquisitionRetailAveragePrice', 'MMRAcquisitonRetailCleanPrice',\n",
    "       'MMRCurrentAuctionAveragePrice', 'MMRCurrentAuctionCleanPrice',\n",
    "       'MMRCurrentRetailAveragePrice', 'MMRCurrentRetailCleanPrice',\n",
    "       'VehBCost', 'WarrantyCost', 'AcqAuc', 'AcqRetail', 'AcqClean',\n",
    "       'RetailClean']\n",
    "df_num = df.loc[:, cols_num]"
   ]
  },
  {
   "cell_type": "code",
   "execution_count": null,
   "metadata": {},
   "outputs": [],
   "source": [
    "plt.figure(figsize=(15, 10))\n",
    "cor = df_num.corr()\n",
    "# sns.heatmap(cor, annot=True, cmap=plt.cm.Reds)\n",
    "sns.heatmap(cor, annot=True, cmap='coolwarm', vmin = -1, vmax = 1, fmt='.2f')"
   ]
  },
  {
   "cell_type": "code",
   "execution_count": null,
   "metadata": {},
   "outputs": [],
   "source": [
    "df.columns"
   ]
  },
  {
   "cell_type": "code",
   "execution_count": null,
   "metadata": {},
   "outputs": [],
   "source": [
    "df_noWheels = AvPdataFrame(df_noWheels)\n",
    "df_Wheels = AvPdataFrame(df_Wheels)\n",
    "df_cost = df.calc_frequency_num(col='VehBCost', target='IsBadBuy')\n",
    "df_cost_nW = df_noWheels.calc_frequency_num(col='VehBCost', target='IsBadBuy')\n",
    "df_cost_Wh = df_Wheels.calc_frequency_num(col='VehBCost', target='IsBadBuy')"
   ]
  },
  {
   "cell_type": "code",
   "execution_count": null,
   "metadata": {},
   "outputs": [],
   "source": [
    "df_cost_nW.columns\n"
   ]
  },
  {
   "cell_type": "code",
   "execution_count": null,
   "metadata": {},
   "outputs": [],
   "source": [
    "df_Wheels['IsBadBuy'].sum()/ df_Wheels.shape[0]"
   ]
  },
  {
   "cell_type": "code",
   "execution_count": null,
   "metadata": {},
   "outputs": [],
   "source": [
    "df_cost_nW\n",
    "AvPdataFrame.plot_frequency_num(df=df_cost,\n",
    "                        x_vlines=[3500, 7000, 12000], \n",
    "                        zoomX1=[800, 6000], \n",
    "                        zoomX2=[5000, 22000], \n",
    "                        xHist=[800, 15000],\n",
    "                        bins=100\n",
    "                        )"
   ]
  },
  {
   "cell_type": "code",
   "execution_count": null,
   "metadata": {},
   "outputs": [],
   "source": [
    "AvPdataFrame.plot_frequency_num(df=df_cost_Wh,\n",
    "                        x_vlines=[3500, 7000, 12000], \n",
    "                        zoomX1=[800, 6000], \n",
    "                        zoomX2=[5000, 22000], \n",
    "                        xHist=[800, 15000],\n",
    "                        bins=100\n",
    "                        )"
   ]
  },
  {
   "cell_type": "code",
   "execution_count": null,
   "metadata": {},
   "outputs": [],
   "source": [
    "AvPdataFrame.plot_frequency_num(df=df_cost_nW,\n",
    "                        x_vlines=[3500, 7000, 12000], \n",
    "                        zoomX1=[800, 6000], \n",
    "                        zoomX2=[5000, 22000], \n",
    "                        xHist=[800, 15000],\n",
    "                        bins=100\n",
    "                        )"
   ]
  },
  {
   "cell_type": "code",
   "execution_count": null,
   "metadata": {},
   "outputs": [],
   "source": [
    "df_noWheels = AvPdataFrame(df_noWheels)\n",
    "df_Wheels = AvPdataFrame(df_Wheels)\n",
    "df_VehOdof = df.calc_frequency_num(col='VehOdo', target='IsBadBuy')\n",
    "df_VehOdof_nW = df_noWheels.calc_frequency_num(col='VehOdo', target='IsBadBuy')\n",
    "df_VehOdof_Wh = df_Wheels.calc_frequency_num(col='VehOdo', target='IsBadBuy')"
   ]
  },
  {
   "cell_type": "code",
   "execution_count": null,
   "metadata": {},
   "outputs": [],
   "source": [
    "\n",
    "df_VehOdof = df.calc_frequency_num(col='VehOdo', target='IsBadBuy', bin=100)\n",
    "AvPdataFrame.plot_frequency_num(df=df_VehOdof,\n",
    "                        x_vlines=[50_000, 75_000, 100_000], \n",
    "                        lines_color='r',\n",
    "                        zoomX1=[5_000, 60_000], \n",
    "                        zoomX2=[50_000, 120_000], \n",
    "                        xHist=None,\n",
    "                       # xHist=[10_000, 120_000]\n",
    "                        hist_bins=100\n",
    "                        )"
   ]
  },
  {
   "cell_type": "code",
   "execution_count": null,
   "metadata": {},
   "outputs": [],
   "source": [
    "df_VehOdof_nW = df_noWheels.calc_frequency_num(col='VehOdo', target='IsBadBuy', bin=100)\n",
    "AvPdataFrame.plot_frequency_num(df=df_VehOdof_nW,\n",
    "                        x_vlines=[53_000, 70_000, 79_000, 83_000], \n",
    "                        lines_color='g',\n",
    "                        zoomX1=[43_000, 80_000], \n",
    "                        zoomX2=[70_000, 110_000], \n",
    "                        xHist=None,\n",
    "                       # xHist=[10_000, 120_000],\n",
    "                        hist_bins=100\n",
    "                        )"
   ]
  },
  {
   "cell_type": "code",
   "execution_count": null,
   "metadata": {},
   "outputs": [],
   "source": [
    "df_VehOdof_Wh = df_Wheels.calc_frequency_num(col='VehOdo', target='IsBadBuy', bin=1000)\n",
    "AvPdataFrame.plot_frequency_num(df=df_VehOdof_Wh,\n",
    "                        x_vlines=[50_000, 75_000, 100_000], \n",
    "                        lines_color='r',\n",
    "                        zoomX1=[5_000, 60_000], \n",
    "                        zoomX2=[50_000, 120_000], \n",
    "                        xHist=None,\n",
    "                       # xHist=[10_000, 120_000]\n",
    "                        hist_bins=100\n",
    "                        )"
   ]
  },
  {
   "cell_type": "markdown",
   "metadata": {},
   "source": [
    "# Diferenses"
   ]
  },
  {
   "cell_type": "markdown",
   "metadata": {},
   "source": [
    "## AcqAuc\n",
    "\n",
    "```python \n",
    "df.loc[:, 'AcqAuc'] = df['MMRAcquisitionAuctionCleanPrice'] - df['MMRAcquisitionAuctionAveragePrice'] #\n",
    "``` \n",
    "Clean - Average"
   ]
  },
  {
   "cell_type": "markdown",
   "metadata": {},
   "source": [
    "- full data"
   ]
  },
  {
   "cell_type": "code",
   "execution_count": null,
   "metadata": {},
   "outputs": [],
   "source": [
    "df_AcqAuc = df.calc_frequency_num(col='AcqAuc', target='IsBadBuy', bin=500)"
   ]
  },
  {
   "cell_type": "code",
   "execution_count": null,
   "metadata": {},
   "outputs": [],
   "source": [
    "# 'AcqAuc', 'AcqRetail', 'AcqClean', 'RetailClean'\n",
    "\n",
    "AvPdataFrame.plot_frequency_num(df=df_AcqAuc,\n",
    "                        x_vlines=[400, 600, 1_100], \n",
    "                        lines_color='k',\n",
    "                        zoomX1=[0, 1_000], \n",
    "                        zoomX2=[800, 3_000], \n",
    "                        xHist=None,\n",
    "                       # xHist=[10_000, 120_000]\n",
    "                        hist_bins=100\n",
    "                        )"
   ]
  },
  {
   "cell_type": "markdown",
   "metadata": {},
   "source": [
    "- with Wheels"
   ]
  },
  {
   "cell_type": "code",
   "execution_count": null,
   "metadata": {},
   "outputs": [],
   "source": [
    "df_AcqAu_W = df_Wheels.calc_frequency_num(col='AcqAuc', target='IsBadBuy', bin=500)"
   ]
  },
  {
   "cell_type": "code",
   "execution_count": null,
   "metadata": {},
   "outputs": [],
   "source": [
    "AvPdataFrame.plot_frequency_num(df=df_AcqAu_W,\n",
    "                        x_vlines=[400, 600, 1_100], \n",
    "                        lines_color='darkorange',\n",
    "                        zoomX1=[0, 1_000], \n",
    "                        zoomX2=[800, 3_000], \n",
    "                        xHist=None,\n",
    "                       # xHist=[10_000, 120_000]\n",
    "                        hist_bins=100\n",
    "                        )"
   ]
  },
  {
   "cell_type": "markdown",
   "metadata": {},
   "source": [
    "- no Wheels"
   ]
  },
  {
   "cell_type": "code",
   "execution_count": null,
   "metadata": {},
   "outputs": [],
   "source": [
    "df_AcqAu_nW = df_noWheels.calc_frequency_num(col='AcqAuc', target='IsBadBuy', bin=300)"
   ]
  },
  {
   "cell_type": "code",
   "execution_count": null,
   "metadata": {},
   "outputs": [],
   "source": [
    "AvPdataFrame.plot_frequency_num(df=df_AcqAu_nW,\n",
    "                        x_vlines=[ 1_000], \n",
    "                        lines_color='k',\n",
    "                        zoomX1=[0, 1_000], \n",
    "                        zoomX2=[800, 3_000], \n",
    "                        xHist=None,\n",
    "                       # xHist=[10_000, 120_000]\n",
    "                        hist_bins=100\n",
    "                        )"
   ]
  },
  {
   "cell_type": "markdown",
   "metadata": {},
   "source": [
    "## AcqRetail \n",
    "\n",
    "```python\n",
    "df.loc[:, 'AcqRetail'] = df['MMRAcquisitonRetailCleanPrice'] - df['MMRAcquisitionRetailAveragePrice'] \n",
    "```\n",
    "Clean - Average"
   ]
  },
  {
   "cell_type": "markdown",
   "metadata": {},
   "source": [
    "- full data "
   ]
  },
  {
   "cell_type": "code",
   "execution_count": null,
   "metadata": {},
   "outputs": [],
   "source": [
    "# 'AcqAuc', 'AcqRetail', 'AcqClean', 'RetailClean'\n",
    "df_AcqRetail = df.calc_frequency_num(col='AcqRetail', target='IsBadBuy', bin=500)"
   ]
  },
  {
   "cell_type": "code",
   "execution_count": null,
   "metadata": {},
   "outputs": [],
   "source": [
    "\n",
    "AvPdataFrame.plot_frequency_num(df_AcqRetail,\n",
    "                        x_vlines=[200, 400, 650, 1_200], \n",
    "                        lines_color='k',\n",
    "                        zoomX1=[0, 1_000], \n",
    "                        zoomX2=[800, 3_000], \n",
    "                        xHist=None,\n",
    "                       # xHist=[10_000, 120_000]\n",
    "                        hist_bins=100\n",
    "                        )"
   ]
  },
  {
   "cell_type": "markdown",
   "metadata": {},
   "source": [
    "- with Wheels"
   ]
  },
  {
   "cell_type": "code",
   "execution_count": null,
   "metadata": {},
   "outputs": [],
   "source": [
    "# 'AcqAuc', 'AcqRetail', 'AcqClean', 'RetailClean'\n",
    "df_AcqRetail_W = df_Wheels.calc_frequency_num(col='AcqRetail', target='IsBadBuy', bin=500)"
   ]
  },
  {
   "cell_type": "code",
   "execution_count": null,
   "metadata": {},
   "outputs": [],
   "source": [
    "AvPdataFrame.plot_frequency_num(df_AcqRetail_W,\n",
    "                        x_vlines=[200, 650, 1_200], \n",
    "                        lines_color='darkorange',\n",
    "                        zoomX1=[0, 1_000], \n",
    "                        zoomX2=[800, 3_000], \n",
    "                        xHist=None,\n",
    "                       # xHist=[10_000, 120_000]\n",
    "                        hist_bins=100\n",
    "                        )"
   ]
  },
  {
   "cell_type": "markdown",
   "metadata": {},
   "source": [
    "- no Wheels"
   ]
  },
  {
   "cell_type": "code",
   "execution_count": null,
   "metadata": {},
   "outputs": [],
   "source": [
    "df_AcqRetail_nW = df_noWheels.calc_frequency_num(col='AcqRetail', target='IsBadBuy', bin=100)"
   ]
  },
  {
   "cell_type": "code",
   "execution_count": null,
   "metadata": {},
   "outputs": [],
   "source": [
    "AvPdataFrame.plot_frequency_num(df_AcqRetail_nW,\n",
    "                        x_vlines=[200, 650, 1_200], \n",
    "                        lines_color='k',\n",
    "                        zoomX1=[0, 1_000], \n",
    "                        zoomX2=[800, 3_000], \n",
    "                        xHist=None,\n",
    "                       # xHist=[10_000, 120_000]\n",
    "                        hist_bins=100\n",
    "                        )"
   ]
  },
  {
   "cell_type": "markdown",
   "metadata": {},
   "source": [
    "## AcqClean\n",
    "```python\n",
    "df.loc[:, 'AcqClean'] = df['MMRAcquisitonRetailCleanPrice'] - df['MMRAcquisitionAuctionCleanPrice'] \n",
    "```\n",
    " Retail - Auction"
   ]
  },
  {
   "cell_type": "markdown",
   "metadata": {},
   "source": [
    "- full data"
   ]
  },
  {
   "cell_type": "code",
   "execution_count": null,
   "metadata": {},
   "outputs": [],
   "source": [
    "# 'AcqAuc', 'AcqRetail', 'AcqClean', 'RetailClean'\n",
    "df_AcqClean = df.calc_frequency_num(col='AcqClean', target='IsBadBuy', bin=300)"
   ]
  },
  {
   "cell_type": "code",
   "execution_count": null,
   "metadata": {},
   "outputs": [],
   "source": [
    "\n",
    "AvPdataFrame.plot_frequency_num(df=df_AcqClean,\n",
    "                        x_vlines=[100, 550, 720, 1000, 2000, 3000], \n",
    "                        lines_color='k',\n",
    "                        zoomX1=[0, 1_500], \n",
    "                        zoomX2=[800, 6_000], \n",
    "                        xHist=None,\n",
    "                       # xHist=[10_000, 120_000]\n",
    "                        hist_bins=100\n",
    "                        )"
   ]
  },
  {
   "cell_type": "markdown",
   "metadata": {},
   "source": [
    "- with Wheels"
   ]
  },
  {
   "cell_type": "code",
   "execution_count": null,
   "metadata": {},
   "outputs": [],
   "source": [
    "df_Wheels = AvPdataFrame(df_Wheels)\n",
    "df_AcqClean_W = df_Wheels.calc_frequency_num(col='AcqClean', target='IsBadBuy', bin=300,)"
   ]
  },
  {
   "cell_type": "code",
   "execution_count": null,
   "metadata": {},
   "outputs": [],
   "source": [
    "AvPdataFrame.plot_frequency_num(df=df_AcqClean_W,\n",
    "                        x_vlines=[300, 800, 1000, 2000, 3000], \n",
    "                        lines_color='darkorange',\n",
    "                        zoomX1=[0, 1_500], \n",
    "                        zoomX2=[800, 6_000], \n",
    "                        xHist=None,\n",
    "                       # xHist=[10_000, 120_000]\n",
    "                        hist_bins=100\n",
    "                        )"
   ]
  },
  {
   "cell_type": "markdown",
   "metadata": {},
   "source": [
    "- no Wheels"
   ]
  },
  {
   "cell_type": "code",
   "execution_count": null,
   "metadata": {},
   "outputs": [],
   "source": [
    "df_noWheels = AvPdataFrame(df_noWheels)\n",
    "df_AcqClean_nW = df_noWheels.calc_frequency_num(col='AcqClean', target='IsBadBuy', bin=100,)"
   ]
  },
  {
   "cell_type": "code",
   "execution_count": null,
   "metadata": {},
   "outputs": [],
   "source": [
    "\n",
    "AvPdataFrame.plot_frequency_num(df=df_AcqClean_nW,\n",
    "                        x_vlines=[1000, 2000, 3700], \n",
    "                        lines_color='r',\n",
    "                        zoomX1=[400, 1_500], \n",
    "                        zoomX2=[800, 6_000], \n",
    "                        xHist=None,\n",
    "                       # xHist=[10_000, 120_000]\n",
    "                        hist_bins=100\n",
    "                        )"
   ]
  },
  {
   "cell_type": "markdown",
   "metadata": {},
   "source": [
    "## 'RetailClean'\n",
    "```python\n",
    "df.loc[:, 'RetailClean'] = df['MMRAcquisitonRetailCleanPrice'] - df['MMRCurrentRetailCleanPrice'] # \n",
    "```\n",
    "Acquisiton - Current"
   ]
  },
  {
   "cell_type": "markdown",
   "metadata": {},
   "source": [
    "- full data"
   ]
  },
  {
   "cell_type": "code",
   "execution_count": null,
   "metadata": {},
   "outputs": [],
   "source": [
    "df_RetailClean = df.calc_frequency_num(col='RetailClean', target='IsBadBuy', bin=300,)"
   ]
  },
  {
   "cell_type": "code",
   "execution_count": null,
   "metadata": {},
   "outputs": [],
   "source": [
    "# 'AcqAuc', 'AcqRetail', 'AcqClean', 'RetailClean'\n",
    "\n",
    "AvPdataFrame.plot_frequency_num(df=df_RetailClean,\n",
    "                        x_vlines=[-2_000, -1200, -450, -100, 100, 450, ], \n",
    "                        lines_color='k',\n",
    "                        zoomX1=[-3_000, 0], \n",
    "                        zoomX2=[-1_000, 2_000], \n",
    "                        xHist=None,\n",
    "                       # xHist=[10_000, 120_000]\n",
    "                        hist_bins=100\n",
    "                        )"
   ]
  },
  {
   "cell_type": "markdown",
   "metadata": {},
   "source": [
    "- with Wheels"
   ]
  },
  {
   "cell_type": "code",
   "execution_count": null,
   "metadata": {},
   "outputs": [],
   "source": [
    "df_Wheels = AvPdataFrame(df_Wheels)\n",
    "df_RetailClean_W = df_Wheels.calc_frequency_num(col='RetailClean', target='IsBadBuy', bin=1000,)"
   ]
  },
  {
   "cell_type": "code",
   "execution_count": null,
   "metadata": {},
   "outputs": [],
   "source": [
    "AvPdataFrame.plot_frequency_num(df=df_RetailClean_W ,\n",
    "                        x_vlines=[-5_000, -1_200, -150, 450, ], \n",
    "                        lines_color='darkorange',\n",
    "                        zoomX1=[-10_000, 450], \n",
    "                        zoomX2=[-2_000, 2_000], \n",
    "                        xHist=None,\n",
    "                       # xHist=[10_000, 120_000]\n",
    "                        hist_bins=100\n",
    "                        )"
   ]
  },
  {
   "cell_type": "markdown",
   "metadata": {},
   "source": [
    "- no Wheels"
   ]
  },
  {
   "cell_type": "code",
   "execution_count": null,
   "metadata": {},
   "outputs": [],
   "source": [
    "df_noWheels = AvPdataFrame(df_noWheels)\n",
    "df_RetailClean_nW = df_noWheels.calc_frequency_num(col='RetailClean', target='IsBadBuy', bin=50,)"
   ]
  },
  {
   "cell_type": "code",
   "execution_count": null,
   "metadata": {},
   "outputs": [],
   "source": [
    "\n",
    "AvPdataFrame.plot_frequency_num(df=df_RetailClean_nW ,\n",
    "                        x_vlines=[-2_500, -1200, -450, -100, 100, 450, ], \n",
    "                        lines_color='r',\n",
    "                        zoomX1=[-3_000, 0], \n",
    "                        zoomX2=[-1_000, 2_000], \n",
    "                        xHist=None,\n",
    "                       # xHist=[10_000, 120_000]\n",
    "                        hist_bins=10\n",
    "                        )"
   ]
  },
  {
   "cell_type": "code",
   "execution_count": null,
   "metadata": {},
   "outputs": [],
   "source": [
    "sns.scatterplot(df_noWheels,\n",
    "                x='RetailClean',\n",
    "                y='IsBadBuy')\n",
    "# df_noWheels['RetailClean']"
   ]
  },
  {
   "cell_type": "code",
   "execution_count": null,
   "metadata": {},
   "outputs": [],
   "source": [
    "df_tmp = df_noWheels[['IsBadBuy','RetailClean']].copy().sort_values('RetailClean', ignore_index=True, ascending=True)\n",
    "df_tmp.reset_index(inplace=True)\n",
    "df_tmp.head()\n",
    "\n"
   ]
  },
  {
   "cell_type": "code",
   "execution_count": null,
   "metadata": {},
   "outputs": [],
   "source": [
    "\n",
    "target_freq = df_tmp.loc[0:4, 'IsBadBuy'].sum() # / 1\n",
    "target_freq\n"
   ]
  },
  {
   "cell_type": "code",
   "execution_count": null,
   "metadata": {},
   "outputs": [],
   "source": [
    "df.loc[:, 'RetailClean'] = df['MMRAcquisitonRetailCleanPrice'] - df['MMRCurrentRetailCleanPrice']\n",
    "### no Wheels: x_vlines=[-2_000, -1200, -450, -100, 100, 450, ]\n",
    "### Wheels:    x_vlines=[-5_000, -1200, -150, 450, ]\n",
    "\n",
    "df.loc[:, 'AcqClean'] = df['MMRAcquisitonRetailCleanPrice'] - df['MMRAcquisitionAuctionCleanPrice']\n",
    "### no Wheels:          x_vlines=[1000, 2000, 3700]\n",
    "### Wheels:   x_vlines=[300, 800, 1000, 2000, 3000] \n",
    "\n",
    "df.loc[:, 'AcqRetail'] = df['MMRAcquisitonRetailCleanPrice'] - df['MMRAcquisitionRetailAveragePrice'] \n",
    "### Wheels: x_vlines=[200, 650, 1_200]\n",
    "\n",
    "df.loc[:, 'AcqAuc'] = df['MMRAcquisitionAuctionCleanPrice'] - df['MMRAcquisitionAuctionAveragePrice']\n",
    "### Wheels: x_vlines=[400, 600, 1_100]\n"
   ]
  }
 ],
 "metadata": {
  "kernelspec": {
   "display_name": "env_pp",
   "language": "python",
   "name": "python3"
  },
  "language_info": {
   "codemirror_mode": {
    "name": "ipython",
    "version": 3
   },
   "file_extension": ".py",
   "mimetype": "text/x-python",
   "name": "python",
   "nbconvert_exporter": "python",
   "pygments_lexer": "ipython3",
   "version": "3.12.4"
  }
 },
 "nbformat": 4,
 "nbformat_minor": 2
}
